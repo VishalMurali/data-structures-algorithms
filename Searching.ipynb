{
 "cells": [
  {
   "cell_type": "markdown",
   "metadata": {},
   "source": [
    "# Sequential Search\n",
    "Time Complexity = O(n)"
   ]
  },
  {
   "cell_type": "code",
   "execution_count": 5,
   "metadata": {
    "collapsed": true
   },
   "outputs": [],
   "source": [
    "def sequential_search(array, element, is_ordered):\n",
    "    \n",
    "    element_found = False\n",
    "    if is_ordered:\n",
    "        for e in array:\n",
    "            if (e <= element) :\n",
    "                if e == element:\n",
    "                    element_found = True\n",
    "                    break\n",
    "            else:\n",
    "                break                                                   \n",
    "                \n",
    "        \n",
    "    else:\n",
    "        for e in array:\n",
    "            if e == element:\n",
    "                element_found = True\n",
    "                break\n",
    "    \n",
    "    return element_found"
   ]
  },
  {
   "cell_type": "code",
   "execution_count": 7,
   "metadata": {},
   "outputs": [
    {
     "data": {
      "text/plain": [
       "False"
      ]
     },
     "execution_count": 7,
     "metadata": {},
     "output_type": "execute_result"
    }
   ],
   "source": [
    "sequential_search([1,2,3,4,5],7,True)"
   ]
  },
  {
   "cell_type": "markdown",
   "metadata": {},
   "source": [
    "# Binary Search\n",
    "Time Complexity = O(nlog(n))"
   ]
  },
  {
   "cell_type": "code",
   "execution_count": 9,
   "metadata": {},
   "outputs": [],
   "source": [
    "def binary_search(array, element):\n",
    "    \n",
    "    a = array\n",
    "    left = a\n",
    "    right = a\n",
    "    element_found = False\n",
    "    \n",
    "    while element_found == False and (len(left) > 0) and (len(right) > 0):\n",
    "        \n",
    "        midpoint_idx = int(len(a)/2)\n",
    "        mid = a[midpoint_idx]\n",
    "        left = a[0:midpoint_idx]\n",
    "        right = a[midpoint_idx:]\n",
    "        \n",
    "        if element == mid:\n",
    "            element_found = True\n",
    "        elif element < mid:\n",
    "            a = left\n",
    "        else:\n",
    "            a = right\n",
    "    \n",
    "    return element_found\n",
    "    "
   ]
  },
  {
   "cell_type": "code",
   "execution_count": 13,
   "metadata": {},
   "outputs": [
    {
     "data": {
      "text/plain": [
       "False"
      ]
     },
     "execution_count": 13,
     "metadata": {},
     "output_type": "execute_result"
    }
   ],
   "source": [
    "binary_search([1,2,3], 5)"
   ]
  },
  {
   "cell_type": "code",
   "execution_count": 14,
   "metadata": {},
   "outputs": [
    {
     "data": {
      "text/plain": [
       "True"
      ]
     },
     "execution_count": 14,
     "metadata": {},
     "output_type": "execute_result"
    }
   ],
   "source": [
    "binary_search([1,3,5,6,8,10], 3)"
   ]
  },
  {
   "cell_type": "markdown",
   "metadata": {},
   "source": [
    "## Hashing and Hash tables\n",
    "Time Complexity = O(1)"
   ]
  },
  {
   "cell_type": "code",
   "execution_count": null,
   "metadata": {
    "collapsed": true
   },
   "outputs": [],
   "source": []
  }
 ],
 "metadata": {
  "kernelspec": {
   "display_name": "Python 3",
   "language": "python",
   "name": "python3"
  },
  "language_info": {
   "codemirror_mode": {
    "name": "ipython",
    "version": 3
   },
   "file_extension": ".py",
   "mimetype": "text/x-python",
   "name": "python",
   "nbconvert_exporter": "python",
   "pygments_lexer": "ipython3",
   "version": "3.6.3"
  }
 },
 "nbformat": 4,
 "nbformat_minor": 2
}
